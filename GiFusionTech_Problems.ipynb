{
  "nbformat": 4,
  "nbformat_minor": 0,
  "metadata": {
    "colab": {
      "provenance": []
    },
    "kernelspec": {
      "name": "python3",
      "display_name": "Python 3"
    },
    "language_info": {
      "name": "python"
    }
  },
  "cells": [
    {
      "cell_type": "markdown",
      "source": [
        "### **Problem 1**:\n",
        "\n",
        "Given a signed 32-bit integer x, return x with its digits reversed. If reversing x causes the value to go outside the signed 32-bit integer range [-231, 231 - 1], then return 0.\n",
        "\n",
        "Assume the environment does not allow you to store 64-bit integers (signed or unsigned)."
      ],
      "metadata": {
        "id": "rfmhZiFlRlRn"
      }
    },
    {
      "cell_type": "code",
      "execution_count": 1,
      "metadata": {
        "colab": {
          "base_uri": "https://localhost:8080/"
        },
        "id": "8qkFFFshRc9z",
        "outputId": "e69424f9-0712-4b29-db9e-822f67809710"
      },
      "outputs": [
        {
          "output_type": "stream",
          "name": "stdout",
          "text": [
            "120\n",
            "21\n"
          ]
        }
      ],
      "source": [
        "class Solution:\n",
        "    def reverse(self, x: int) -> int:\n",
        "        # Initialize the result to 0\n",
        "        result = 0\n",
        "        # Determine the sign of x\n",
        "        sign = -1 if x < 0 else 1\n",
        "        # Make x positive for easier processing\n",
        "        x = abs(x)\n",
        "\n",
        "        while x != 0:\n",
        "            # Get the last digit of x\n",
        "            last_digit = x % 10\n",
        "            # Remove the last digit from x\n",
        "            x = x // 10\n",
        "            # Append the last digit to the result\n",
        "            result = result * 10 + last_digit\n",
        "\n",
        "        # Restore the original sign\n",
        "        result = result * sign\n",
        "\n",
        "        # Check if the result is within the 32-bit signed integer range\n",
        "        if result < -2*31 or result > 2*31 - 1:\n",
        "            return 0\n",
        "\n",
        "        return result\n",
        "\n",
        "input = int(input())\n",
        "solution = Solution()\n",
        "output = solution.reverse(input)\n",
        "print(output)"
      ]
    },
    {
      "cell_type": "markdown",
      "source": [
        "### **Problem 2:**\n",
        "\n",
        "In SQL, id is the primary key for this table.\n",
        "id is an autoincrement column.\n",
        "\n",
        "\n",
        "Find all numbers that appear at least three times consecutively.\n",
        "\n",
        "Return the result table in any order.\n",
        "\n",
        "The result format is in the following example."
      ],
      "metadata": {
        "id": "2ZYIi5ipXKjH"
      }
    },
    {
      "cell_type": "markdown",
      "source": [
        "Answer:\n",
        "\n",
        "SELECT DISTINCT l1.num AS ConsecutiveNums\n",
        "\n",
        "FROM Logs l1\n",
        "\n",
        "JOIN Logs l2 ON l1.id = l2.id - 1 AND l1.num = l2.num\n",
        "\n",
        "JOIN Logs l3 ON l2.id = l3.id - 1 AND l2.num = l3.num;"
      ],
      "metadata": {
        "id": "supY68XaXbKw"
      }
    }
  ]
}